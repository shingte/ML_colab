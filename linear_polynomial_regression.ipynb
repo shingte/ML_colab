{
  "nbformat": 4,
  "nbformat_minor": 0,
  "metadata": {
    "kernelspec": {
      "display_name": "Python 3",
      "language": "python",
      "name": "python3"
    },
    "language_info": {
      "codemirror_mode": {
        "name": "ipython",
        "version": 3
      },
      "file_extension": ".py",
      "mimetype": "text/x-python",
      "name": "python",
      "nbconvert_exporter": "python",
      "pygments_lexer": "ipython3",
      "version": "3.6.5"
    },
    "colab": {
      "name": "linear_polynomial_regression.ipynb",
      "provenance": []
    }
  },
  "cells": [
    {
      "cell_type": "code",
      "metadata": {
        "id": "gBFE7KS2Bzdu",
        "colab_type": "code",
        "colab": {
          "base_uri": "https://localhost:8080/",
          "height": 35
        },
        "outputId": "90561407-a379-4bd6-b4b4-c0326ddab038"
      },
      "source": [
        "import sys\n",
        "import numpy as np\n",
        "import matplotlib.pyplot as plt\n",
        "sys.executable"
      ],
      "execution_count": 86,
      "outputs": [
        {
          "output_type": "execute_result",
          "data": {
            "text/plain": [
              "'/usr/bin/python3'"
            ]
          },
          "metadata": {
            "tags": []
          },
          "execution_count": 86
        }
      ]
    },
    {
      "cell_type": "code",
      "metadata": {
        "id": "XdsxFOYPBzd1",
        "colab_type": "code",
        "colab": {
          "base_uri": "https://localhost:8080/",
          "height": 35
        },
        "outputId": "84a94daf-d4bb-4214-fd01-5749a0439e38"
      },
      "source": [
        "w = np.random.randn(2)\n",
        "w # odds"
      ],
      "execution_count": 87,
      "outputs": [
        {
          "output_type": "execute_result",
          "data": {
            "text/plain": [
              "array([ 1.20879156, -0.66934845])"
            ]
          },
          "metadata": {
            "tags": []
          },
          "execution_count": 87
        }
      ]
    },
    {
      "cell_type": "code",
      "metadata": {
        "id": "1Jp1K1yRBzd5",
        "colab_type": "code",
        "colab": {}
      },
      "source": [
        "def exact_func(x):\n",
        "    return w[0] + w[1] * x #straight line equation"
      ],
      "execution_count": 0,
      "outputs": []
    },
    {
      "cell_type": "code",
      "metadata": {
        "id": "Djq5svc8Bzd8",
        "colab_type": "code",
        "colab": {
          "base_uri": "https://localhost:8080/",
          "height": 265
        },
        "outputId": "dc09dc73-6e24-454a-d436-f80205c26459"
      },
      "source": [
        "x_grid = np.linspace(0,1,num = 50) #num = 50 - number of dots\n",
        "y_grid = exact_func(x_grid) #function\n",
        "plt.plot(x_grid, y_grid) #graphic\n",
        "plt.show()"
      ],
      "execution_count": 89,
      "outputs": [
        {
          "output_type": "display_data",
          "data": {
            "image/png": "[encoded data removed]",
            "text/plain": [
              "<Figure size 432x288 with 1 Axes>"
            ]
          },
          "metadata": {
            "tags": []
          }
        }
      ]
    },
    {
      "cell_type": "code",
      "metadata": {
        "id": "YRog_kl8BzeD",
        "colab_type": "code",
        "colab": {}
      },
      "source": [
        "# initial selection\n",
        "Nsize = 30 \n",
        "x_train = np.random.rand(Nsize)\n",
        "y_train_exact = exact_func(x_train)"
      ],
      "execution_count": 0,
      "outputs": []
    },
    {
      "cell_type": "code",
      "metadata": {
        "id": "nJupO_E6BzeG",
        "colab_type": "code",
        "colab": {}
      },
      "source": [
        "# bias\n",
        "def randomly_change(y): #array of Nsize ale\n",
        "    return y + np.random.randn(y.shape[0]) * 0.1 #y.shape[0] = Nsize of 0, variance 1, scatter multiplying by 0.1"
      ],
      "execution_count": 0,
      "outputs": []
    },
    {
      "cell_type": "code",
      "metadata": {
        "id": "CTkYoCrcBzeJ",
        "colab_type": "code",
        "colab": {}
      },
      "source": [
        "y_train = randomly_change(y_train_exact) # random variables"
      ],
      "execution_count": 0,
      "outputs": []
    },
    {
      "cell_type": "code",
      "metadata": {
        "id": "DR9vE6kNBzeM",
        "colab_type": "code",
        "colab": {
          "base_uri": "https://localhost:8080/",
          "height": 265
        },
        "outputId": "e801b7b8-b9ab-4f6b-cca7-a36a1e6dff89"
      },
      "source": [
        "x_grid = np.linspace(0,1,num = 50) #num = 50 - number of dots\n",
        "y_grid = exact_func(x_grid) #function\n",
        "plt.plot(x_grid, y_grid) #graphic\n",
        "plt.scatter(x_train, y_train, c = \"r\") \n",
        "plt.show()"
      ],
      "execution_count": 93,
      "outputs": [
        {
          "output_type": "display_data",
          "data": {
            "image/png": "[encoded data removed]",
            "text/plain": [
              "<Figure size 432x288 with 1 Axes>"
            ]
          },
          "metadata": {
            "tags": []
          }
        }
      ]
    },
    {
      "cell_type": "code",
      "metadata": {
        "id": "ZOYnQIq2BzeP",
        "colab_type": "code",
        "colab": {
          "base_uri": "https://localhost:8080/",
          "height": 107
        },
        "outputId": "6045d0aa-73e4-45b6-bf87-0cc7e45e4945"
      },
      "source": [
        "a = np.random.rand(5,5)\n",
        "a"
      ],
      "execution_count": 94,
      "outputs": [
        {
          "output_type": "execute_result",
          "data": {
            "text/plain": [
              "array([[0.09231518, 0.183856  , 0.97887658, 0.4694375 , 0.40214147],\n",
              "       [0.48575746, 0.99326634, 0.84633619, 0.50851841, 0.39092018],\n",
              "       [0.50970183, 0.64419724, 0.4507944 , 0.78656611, 0.96688895],\n",
              "       [0.68363633, 0.53021384, 0.05624423, 0.7232278 , 0.0383443 ],\n",
              "       [0.99882693, 0.35931403, 0.3792085 , 0.96149426, 0.71107788]])"
            ]
          },
          "metadata": {
            "tags": []
          },
          "execution_count": 94
        }
      ]
    },
    {
      "cell_type": "code",
      "metadata": {
        "id": "qo0ximtBBzeS",
        "colab_type": "code",
        "colab": {
          "base_uri": "https://localhost:8080/",
          "height": 107
        },
        "outputId": "563ddf64-e4b0-458d-e724-cc70fb43d18a"
      },
      "source": [
        "a_inv = np.linalg.inv(a) \n",
        "a_inv"
      ],
      "execution_count": 95,
      "outputs": [
        {
          "output_type": "execute_result",
          "data": {
            "text/plain": [
              "array([[-1.09047233,  1.21232126, -1.7079514 , -1.40943096,  2.34861232],\n",
              "       [-0.65995226,  0.83055132,  0.63592972,  0.44509538, -0.97208112],\n",
              "       [ 0.76168349,  0.59537391, -0.92621931, -0.61640112,  0.53459473],\n",
              "       [ 1.48442969, -1.80088656,  1.16762983,  2.50576094, -1.57225797],\n",
              "       [-0.54815972, -0.00500174,  0.99287329, -1.30461326,  0.43936018]])"
            ]
          },
          "metadata": {
            "tags": []
          },
          "execution_count": 95
        }
      ]
    },
    {
      "cell_type": "code",
      "metadata": {
        "id": "MEywXbGGBzeV",
        "colab_type": "code",
        "colab": {
          "base_uri": "https://localhost:8080/",
          "height": 197
        },
        "outputId": "7c6839f5-a90d-4112-a69b-bbe02906da81"
      },
      "source": [
        "a_inv @ a"
      ],
      "execution_count": 96,
      "outputs": [
        {
          "output_type": "execute_result",
          "data": {
            "text/plain": [
              "array([[ 1.00000000e+00,  3.58415345e-16,  2.39025163e-16,\n",
              "         2.47450294e-16,  2.37007888e-16],\n",
              "       [-4.89954429e-16,  1.00000000e+00, -4.66141717e-16,\n",
              "        -5.81103064e-16, -1.67800366e-16],\n",
              "       [ 2.15594732e-16,  2.29641414e-16,  1.00000000e+00,\n",
              "         4.72582923e-16,  2.73728307e-16],\n",
              "       [-6.13605778e-16, -4.39291930e-16, -5.24811839e-16,\n",
              "         1.00000000e+00, -6.83705545e-16],\n",
              "       [ 1.42191721e-16,  1.01398350e-16,  1.37546667e-16,\n",
              "         1.21168755e-16,  1.00000000e+00]])"
            ]
          },
          "metadata": {
            "tags": []
          },
          "execution_count": 96
        }
      ]
    },
    {
      "cell_type": "code",
      "metadata": {
        "id": "pqVhOBa8BzeZ",
        "colab_type": "code",
        "colab": {
          "base_uri": "https://localhost:8080/",
          "height": 35
        },
        "outputId": "1c0c2a77-8b7f-45b1-b359-86f8c0112cb0"
      },
      "source": [
        "x_train.shape"
      ],
      "execution_count": 97,
      "outputs": [
        {
          "output_type": "execute_result",
          "data": {
            "text/plain": [
              "(30,)"
            ]
          },
          "metadata": {
            "tags": []
          },
          "execution_count": 97
        }
      ]
    },
    {
      "cell_type": "code",
      "metadata": {
        "id": "M_InsoUWBzec",
        "colab_type": "code",
        "colab": {
          "base_uri": "https://localhost:8080/",
          "height": 557
        },
        "outputId": "de83391d-e2f7-416a-84cf-464b8c45138d"
      },
      "source": [
        "X_train = np.ones((Nsize, 2)) # Nsize on 2 columns\n",
        "X_train[:, 1] = x_train[:]\n",
        "X_train"
      ],
      "execution_count": 98,
      "outputs": [
        {
          "output_type": "execute_result",
          "data": {
            "text/plain": [
              "array([[1.        , 0.6830261 ],\n",
              "       [1.        , 0.46037195],\n",
              "       [1.        , 0.3622511 ],\n",
              "       [1.        , 0.92118568],\n",
              "       [1.        , 0.48533847],\n",
              "       [1.        , 0.66780907],\n",
              "       [1.        , 0.77844261],\n",
              "       [1.        , 0.88003279],\n",
              "       [1.        , 0.18316187],\n",
              "       [1.        , 0.89842227],\n",
              "       [1.        , 0.57584738],\n",
              "       [1.        , 0.20505127],\n",
              "       [1.        , 0.31334319],\n",
              "       [1.        , 0.83948533],\n",
              "       [1.        , 0.03132076],\n",
              "       [1.        , 0.03304957],\n",
              "       [1.        , 0.46059263],\n",
              "       [1.        , 0.19997021],\n",
              "       [1.        , 0.12207818],\n",
              "       [1.        , 0.13770577],\n",
              "       [1.        , 0.75079292],\n",
              "       [1.        , 0.88515873],\n",
              "       [1.        , 0.5044052 ],\n",
              "       [1.        , 0.05862779],\n",
              "       [1.        , 0.04091363],\n",
              "       [1.        , 0.83403546],\n",
              "       [1.        , 0.35342708],\n",
              "       [1.        , 0.22525892],\n",
              "       [1.        , 0.55305439],\n",
              "       [1.        , 0.6279889 ]])"
            ]
          },
          "metadata": {
            "tags": []
          },
          "execution_count": 98
        }
      ]
    },
    {
      "cell_type": "code",
      "metadata": {
        "id": "8K4lzCn4Bzef",
        "colab_type": "code",
        "colab": {}
      },
      "source": [
        "def FitLinearModel (X, y, lamb = 0):\n",
        "    reg = lamb * np.identity(X.shape[1])\n",
        "    reg[0][0] = 0\n",
        "    return np.linalg.inv(X.T @ X + lamb * np.identity(X.shape[1])) @X.T @ y # pseudo-circulation"
      ],
      "execution_count": 0,
      "outputs": []
    },
    {
      "cell_type": "code",
      "metadata": {
        "id": "4Q0sXvs1Bzei",
        "colab_type": "code",
        "colab": {}
      },
      "source": [
        "w_opt = FitLinearModel(X_train, y_train)"
      ],
      "execution_count": 0,
      "outputs": []
    },
    {
      "cell_type": "code",
      "metadata": {
        "id": "9uiIh3sHBzel",
        "colab_type": "code",
        "colab": {
          "base_uri": "https://localhost:8080/",
          "height": 265
        },
        "outputId": "ae53852f-dd72-44ba-e15b-115d44270217"
      },
      "source": [
        "x_grid = np.linspace(0,1,num = 50) #num = 50 - number of dots\n",
        "y_grid_exact = exact_func(x_grid) #function\n",
        "y_fitted = w_opt[0] + w_opt[1] * x_grid\n",
        "plt.plot(x_grid, y_grid_exact, c = \"g\") \n",
        "plt.plot(x_grid, y_fitted, c = \"b\")\n",
        "plt.scatter(x_train, y_train, c = \"r\") \n",
        "plt.show()"
      ],
      "execution_count": 101,
      "outputs": [
        {
          "output_type": "display_data",
          "data": {
            "image/png": "[encoded data removed]",
            "text/plain": [
              "<Figure size 432x288 with 1 Axes>"
            ]
          },
          "metadata": {
            "tags": []
          }
        }
      ]
    },
    {
      "cell_type": "code",
      "metadata": {
        "id": "eFKG9HpwBzeo",
        "colab_type": "code",
        "colab": {
          "base_uri": "https://localhost:8080/",
          "height": 53
        },
        "outputId": "79988606-ea8d-4957-8444-7a768ca79edc"
      },
      "source": [
        "print(w_opt)\n",
        "print(w)"
      ],
      "execution_count": 102,
      "outputs": [
        {
          "output_type": "stream",
          "text": [
            "[ 1.18056262 -0.60619147]\n",
            "[ 1.20879156 -0.66934845]\n"
          ],
          "name": "stdout"
        }
      ]
    },
    {
      "cell_type": "code",
      "metadata": {
        "id": "RZ0h_gcBBzer",
        "colab_type": "code",
        "colab": {}
      },
      "source": [
        "def f_exact(x):\n",
        "    return np.square(np.sin(8*x))"
      ],
      "execution_count": 0,
      "outputs": []
    },
    {
      "cell_type": "code",
      "metadata": {
        "id": "pbyZtuHcBzeu",
        "colab_type": "code",
        "colab": {}
      },
      "source": [
        "x_min = -0.5\n",
        "x_max = 0.5"
      ],
      "execution_count": 0,
      "outputs": []
    },
    {
      "cell_type": "code",
      "metadata": {
        "id": "KsXPe1xxBzez",
        "colab_type": "code",
        "colab": {
          "base_uri": "https://localhost:8080/",
          "height": 265
        },
        "outputId": "42ac5f3b-aec8-47cb-b1e1-1129ebd61e88"
      },
      "source": [
        "x_grid = np.linspace(x_min,x_max,num = 50) #num = 50 - number of dots\n",
        "y_grid_exact = f_exact(x_grid) #function\n",
        "plt.plot(x_grid, y_grid_exact, c = \"b\")\n",
        "plt.show()"
      ],
      "execution_count": 105,
      "outputs": [
        {
          "output_type": "display_data",
          "data": {
            "image/png": "[encoded data removed]",
            "text/plain": [
              "<Figure size 432x288 with 1 Axes>"
            ]
          },
          "metadata": {
            "tags": []
          }
        }
      ]
    },
    {
      "cell_type": "code",
      "metadata": {
        "id": "Wzun7Q-tBze4",
        "colab_type": "code",
        "colab": {}
      },
      "source": [
        "Ntrain = 40\n",
        "x_train = np.random.rand(Ntrain) * (x_max - x_min) + x_min # range from x_min to x_max\n",
        "y_train_exact = f_exact(x_train)\n",
        "y_train = randomly_change(y_train_exact)"
      ],
      "execution_count": 0,
      "outputs": []
    },
    {
      "cell_type": "code",
      "metadata": {
        "id": "99mIy8anBze8",
        "colab_type": "code",
        "colab": {
          "base_uri": "https://localhost:8080/",
          "height": 265
        },
        "outputId": "988fe3d5-6013-479d-aa64-606dcb70f89a"
      },
      "source": [
        "x_grid = np.linspace(x_min,x_max,num = 50) #num = 50 - number of dots\n",
        "y_grid_exact = f_exact(x_grid) #function\n",
        "plt.plot(x_grid, y_grid_exact, c = \"b\")\n",
        "plt.scatter(x_train, y_train, c = \"r\")\n",
        "plt.show()"
      ],
      "execution_count": 107,
      "outputs": [
        {
          "output_type": "display_data",
          "data": {
            "image/png": "[encoded data removed]",
            "text/plain": [
              "<Figure size 432x288 with 1 Axes>"
            ]
          },
          "metadata": {
            "tags": []
          }
        }
      ]
    },
    {
      "cell_type": "code",
      "metadata": {
        "id": "hBZ3ZKtZBze_",
        "colab_type": "code",
        "colab": {}
      },
      "source": [
        "M = 6\n",
        "lamb = 1e-10\n",
        "def generateDataMatrix(x, M):\n",
        "    result = np.ones(x.shape[0]).reshape(-1, 1) # fill in units\n",
        "    column = result.copy()\n",
        "    for i in range(M):\n",
        "        column = column * x.reshape(-1,1)\n",
        "        result = np.concatenate((result, column), axis = 1)\n",
        "    return result\n",
        "    "
      ],
      "execution_count": 0,
      "outputs": []
    },
    {
      "cell_type": "code",
      "metadata": {
        "id": "6L3ci1LCBzfB",
        "colab_type": "code",
        "colab": {
          "base_uri": "https://localhost:8080/",
          "height": 35
        },
        "outputId": "6f9ac3b4-d532-42ef-d4d1-25fd2d6acbbe"
      },
      "source": [
        "X_train = generateDataMatrix(x_train, M)\n",
        "X_train.shape"
      ],
      "execution_count": 109,
      "outputs": [
        {
          "output_type": "execute_result",
          "data": {
            "text/plain": [
              "(40, 7)"
            ]
          },
          "metadata": {
            "tags": []
          },
          "execution_count": 109
        }
      ]
    },
    {
      "cell_type": "code",
      "metadata": {
        "id": "QxawLCghBzfF",
        "colab_type": "code",
        "colab": {}
      },
      "source": [
        "w_opt = FitLinearModel (X_train, y_train, lamb)"
      ],
      "execution_count": 0,
      "outputs": []
    },
    {
      "cell_type": "code",
      "metadata": {
        "id": "kOW2R_o8BzfH",
        "colab_type": "code",
        "colab": {}
      },
      "source": [
        "def polynomialF (x, w):\n",
        "    result = np.zeros(x.shape[0])\n",
        "    for i in range (w.shape[0]):\n",
        "        result += w[i] * (x ** i)\n",
        "    return result"
      ],
      "execution_count": 0,
      "outputs": []
    },
    {
      "cell_type": "code",
      "metadata": {
        "id": "m9e--m0ZBzfK",
        "colab_type": "code",
        "colab": {
          "base_uri": "https://localhost:8080/",
          "height": 35
        },
        "outputId": "1a94ee91-89f3-4c65-f283-8e24239aaf78"
      },
      "source": [
        "X_1 = np.array([[1,0],[1,0]])\n",
        "y_1 = np.array([2,4])\n",
        "w_opt_1 = FitLinearModel(X_1, y_1, 1)\n",
        "print(w_opt_1)"
      ],
      "execution_count": 112,
      "outputs": [
        {
          "output_type": "stream",
          "text": [
            "[2. 0.]\n"
          ],
          "name": "stdout"
        }
      ]
    },
    {
      "cell_type": "code",
      "metadata": {
        "id": "olXSuJZjBzfN",
        "colab_type": "code",
        "colab": {
          "base_uri": "https://localhost:8080/",
          "height": 266
        },
        "outputId": "ae2440c7-bfa1-4951-9022-0c90276bf13e"
      },
      "source": [
        "x_grid = np.linspace(x_min,x_max,num = 50) #num = 50 - number of dots\n",
        "y_grid_exact = f_exact(x_grid) #function\n",
        "y_grid_fitted = polynomialF(x_grid, w_opt)\n",
        "plt.plot(x_grid, y_grid_exact, c = \"b\")\n",
        "plt.plot(x_grid, y_grid_fitted, c = \"g\")\n",
        "plt.scatter(x_train, y_train, c = \"r\")\n",
        "plt.show()"
      ],
      "execution_count": 113,
      "outputs": [
        {
          "output_type": "display_data",
          "data": {
            "image/png": "[encoded data removed]",
            "text/plain": [
              "<Figure size 432x288 with 1 Axes>"
            ]
          },
          "metadata": {
            "tags": []
          }
        }
      ]
    },
    {
      "cell_type": "code",
      "metadata": {
        "id": "6sCyoHGbBzfp",
        "colab_type": "code",
        "colab": {}
      },
      "source": [
        ""
      ],
      "execution_count": 0,
      "outputs": []
    }
  ]
}