{
  "nbformat": 4,
  "nbformat_minor": 0,
  "metadata": {
    "kernelspec": {
      "display_name": "Python 3",
      "language": "python",
      "name": "python3"
    },
    "language_info": {
      "codemirror_mode": {
        "name": "ipython",
        "version": 3
      },
      "file_extension": ".py",
      "mimetype": "text/x-python",
      "name": "python",
      "nbconvert_exporter": "python",
      "pygments_lexer": "ipython3",
      "version": "3.6.5"
    },
    "colab": {
      "name": "logistic_regression.ipynb",
      "provenance": []
    }
  },
  "cells": [
    {
      "cell_type": "code",
      "metadata": {
        "id": "a5z6LYxhAaak",
        "colab_type": "code",
        "colab": {
          "base_uri": "https://localhost:8080/",
          "height": 35
        },
        "outputId": "0d2a8fe4-ffc4-4b40-aab9-dde8da4dafca"
      },
      "source": [
        "import sys\n",
        "import numpy as np\n",
        "import matplotlib.pyplot as plt\n",
        "sys.executable"
      ],
      "execution_count": 28,
      "outputs": [
        {
          "output_type": "execute_result",
          "data": {
            "text/plain": [
              "'/usr/bin/python3'"
            ]
          },
          "metadata": {
            "tags": []
          },
          "execution_count": 28
        }
      ]
    },
    {
      "cell_type": "code",
      "metadata": {
        "id": "fpt-mLwKAabX",
        "colab_type": "code",
        "colab": {}
      },
      "source": [
        "def sigma_(x):\n",
        "    if (x>0):\n",
        "        return 1/(1+np.exp(-x))\n",
        "    return np.exp(x)/(1+np.exp(-x))"
      ],
      "execution_count": 0,
      "outputs": []
    },
    {
      "cell_type": "code",
      "metadata": {
        "id": "ndLg5MBaAabg",
        "colab_type": "code",
        "colab": {}
      },
      "source": [
        "x = np.array([1,2])"
      ],
      "execution_count": 0,
      "outputs": []
    },
    {
      "cell_type": "code",
      "metadata": {
        "id": "gLCHZZwLAabl",
        "colab_type": "code",
        "colab": {}
      },
      "source": [
        "sigma_vect = np.vectorize(sigma)"
      ],
      "execution_count": 0,
      "outputs": []
    },
    {
      "cell_type": "code",
      "metadata": {
        "id": "sMDUIK9yAabq",
        "colab_type": "code",
        "colab": {
          "base_uri": "https://localhost:8080/",
          "height": 35
        },
        "outputId": "75463be5-5022-4dea-d61b-1fbdf827080f"
      },
      "source": [
        "sigma_vect(x)"
      ],
      "execution_count": 32,
      "outputs": [
        {
          "output_type": "execute_result",
          "data": {
            "text/plain": [
              "array([0.73105858, 0.88079708])"
            ]
          },
          "metadata": {
            "tags": []
          },
          "execution_count": 32
        }
      ]
    },
    {
      "cell_type": "code",
      "metadata": {
        "id": "EEaafho_Aabu",
        "colab_type": "code",
        "colab": {}
      },
      "source": [
        "def softmax(x):\n",
        "    max_elem = np.max(x, axis = 0) # max value in each column\n",
        "    y = x - max_elem # subtracts the maximum value from each element\n",
        "    y = np.exp(y)\n",
        "    sums = np.sum(y, axis = 0)\n",
        "    return y / sums"
      ],
      "execution_count": 0,
      "outputs": []
    },
    {
      "cell_type": "code",
      "metadata": {
        "id": "kivUAZCKAaby",
        "colab_type": "code",
        "colab": {
          "base_uri": "https://localhost:8080/",
          "height": 125
        },
        "outputId": "3dee5dc0-0b3e-483e-d20b-c845816c757e"
      },
      "source": [
        "x = np.random.rand(3, 4)\n",
        "print(x)\n",
        "print(softmax(x))"
      ],
      "execution_count": 34,
      "outputs": [
        {
          "output_type": "stream",
          "text": [
            "[[0.06747897 0.19989931 0.43598873 0.16821064]\n",
            " [0.79199384 0.99568157 0.32231565 0.08308384]\n",
            " [0.74934694 0.56345312 0.11517537 0.04539289]]\n",
            "[[0.19836161 0.21484095 0.38195516 0.35678344]\n",
            " [0.40936474 0.47612491 0.34091396 0.32766842]\n",
            " [0.39227364 0.30903415 0.27713087 0.31554814]]\n"
          ],
          "name": "stdout"
        }
      ]
    },
    {
      "cell_type": "markdown",
      "metadata": {
        "id": "a4aAQGEaAab2",
        "colab_type": "text"
      },
      "source": [
        "Logistic regression"
      ]
    },
    {
      "cell_type": "code",
      "metadata": {
        "id": "BDRle0AlAab3",
        "colab_type": "code",
        "colab": {}
      },
      "source": [
        "C = 4 #class\n",
        "N_class = 20 # points\n",
        "\n",
        "centers= np.array([[-1,0], [0,-1], [1,0], [0,1]]).T #[x][y]\n",
        "X = np.random.randn(2, C, N_class) * 0.2 + centers.reshape(2, C, 1) # 3 \n",
        "X = X.reshape(2,-1) #2\n",
        "y_label = np.zeros((C, N_class))\n",
        "y_label[:,:] = np.arange(C).reshape(-1,1)\n",
        "y_label = y_label.reshape(-1)"
      ],
      "execution_count": 0,
      "outputs": []
    },
    {
      "cell_type": "code",
      "metadata": {
        "id": "TZutJd2aAab7",
        "colab_type": "code",
        "colab": {
          "base_uri": "https://localhost:8080/",
          "height": 89
        },
        "outputId": "b42038b5-297c-4a92-9d00-400b870d02a6"
      },
      "source": [
        "print(y_label)"
      ],
      "execution_count": 36,
      "outputs": [
        {
          "output_type": "stream",
          "text": [
            "[0. 0. 0. 0. 0. 0. 0. 0. 0. 0. 0. 0. 0. 0. 0. 0. 0. 0. 0. 0. 1. 1. 1. 1.\n",
            " 1. 1. 1. 1. 1. 1. 1. 1. 1. 1. 1. 1. 1. 1. 1. 1. 2. 2. 2. 2. 2. 2. 2. 2.\n",
            " 2. 2. 2. 2. 2. 2. 2. 2. 2. 2. 2. 2. 3. 3. 3. 3. 3. 3. 3. 3. 3. 3. 3. 3.\n",
            " 3. 3. 3. 3. 3. 3. 3. 3.]\n"
          ],
          "name": "stdout"
        }
      ]
    },
    {
      "cell_type": "code",
      "metadata": {
        "id": "Fr74g5BAAab-",
        "colab_type": "code",
        "colab": {
          "base_uri": "https://localhost:8080/",
          "height": 35
        },
        "outputId": "6b7f7888-26df-4c1f-e7f9-463c058a1510"
      },
      "source": [
        "print(X.shape)"
      ],
      "execution_count": 37,
      "outputs": [
        {
          "output_type": "stream",
          "text": [
            "(2, 80)\n"
          ],
          "name": "stdout"
        }
      ]
    },
    {
      "cell_type": "code",
      "metadata": {
        "id": "V4e4j1wLAacC",
        "colab_type": "code",
        "colab": {}
      },
      "source": [
        "def plotPoints(X, y_label):\n",
        "    colors = {0: [1,0,0], 1: [0,1,0],\n",
        "             2:[0,0,1], 3: [1,1,0]}\n",
        "    points_colors = [colors[y_label[i]]\n",
        "    for i in range(y_label.size)]\n",
        "    plt.scatter(X[0],X[1], c = points_colors)\n",
        "    plt.show()\n",
        "    "
      ],
      "execution_count": 0,
      "outputs": []
    },
    {
      "cell_type": "code",
      "metadata": {
        "id": "iRtdEVKtAacF",
        "colab_type": "code",
        "colab": {
          "base_uri": "https://localhost:8080/",
          "height": 268
        },
        "outputId": "1559736c-8e12-44b4-c2df-3683d06ea7ba"
      },
      "source": [
        "plotPoints(X, y_label)"
      ],
      "execution_count": 39,
      "outputs": [
        {
          "output_type": "display_data",
          "data": {
            "image/png": "[encoded data removed]",
            "text/plain": [
              "<Figure size 432x288 with 1 Axes>"
            ]
          },
          "metadata": {
            "tags": []
          }
        }
      ]
    },
    {
      "cell_type": "code",
      "metadata": {
        "id": "Qfu9RN1EAacJ",
        "colab_type": "code",
        "colab": {}
      },
      "source": [
        "def getLinearFeatures(X): # add a line of units 1\n",
        "    return np.vstack((np.ones(X.shape[1]),X))"
      ],
      "execution_count": 0,
      "outputs": []
    },
    {
      "cell_type": "code",
      "metadata": {
        "id": "QWKd3pbJAacM",
        "colab_type": "code",
        "colab": {}
      },
      "source": [
        "X_train = getLinearFeatures(X)"
      ],
      "execution_count": 0,
      "outputs": []
    },
    {
      "cell_type": "code",
      "metadata": {
        "id": "BxnQ5aCfAacQ",
        "colab_type": "code",
        "colab": {}
      },
      "source": [
        "def one_hot_encoding(y_label): #\n",
        "    C = int(y_label.max() + 1)\n",
        "    enc = np.zeros((C, y_label.size)) #array 0 \n",
        "    enc[y_label.astype(int), np.arange(y_label.size)] = 1\n",
        "    return enc"
      ],
      "execution_count": 0,
      "outputs": []
    },
    {
      "cell_type": "code",
      "metadata": {
        "id": "a5xV1lknAacT",
        "colab_type": "code",
        "colab": {
          "base_uri": "https://localhost:8080/",
          "height": 89
        },
        "outputId": "71702248-6977-4926-bba6-108a99919ac5"
      },
      "source": [
        "print(y_label)"
      ],
      "execution_count": 43,
      "outputs": [
        {
          "output_type": "stream",
          "text": [
            "[0. 0. 0. 0. 0. 0. 0. 0. 0. 0. 0. 0. 0. 0. 0. 0. 0. 0. 0. 0. 1. 1. 1. 1.\n",
            " 1. 1. 1. 1. 1. 1. 1. 1. 1. 1. 1. 1. 1. 1. 1. 1. 2. 2. 2. 2. 2. 2. 2. 2.\n",
            " 2. 2. 2. 2. 2. 2. 2. 2. 2. 2. 2. 2. 3. 3. 3. 3. 3. 3. 3. 3. 3. 3. 3. 3.\n",
            " 3. 3. 3. 3. 3. 3. 3. 3.]\n"
          ],
          "name": "stdout"
        }
      ]
    },
    {
      "cell_type": "code",
      "metadata": {
        "id": "T3VhvKCAAacX",
        "colab_type": "code",
        "colab": {
          "base_uri": "https://localhost:8080/",
          "height": 89
        },
        "outputId": "ea0d57e8-2715-4541-afbe-465e2f75f932"
      },
      "source": [
        "y_1 = np.array([1,2,3,0,2,3])\n",
        "print(one_hot_encoding(y_1))"
      ],
      "execution_count": 44,
      "outputs": [
        {
          "output_type": "stream",
          "text": [
            "[[0. 0. 0. 1. 0. 0.]\n",
            " [1. 0. 0. 0. 0. 0.]\n",
            " [0. 1. 0. 0. 1. 0.]\n",
            " [0. 0. 1. 0. 0. 1.]]\n"
          ],
          "name": "stdout"
        }
      ]
    },
    {
      "cell_type": "code",
      "metadata": {
        "id": "pXivs_TbAaca",
        "colab_type": "code",
        "colab": {}
      },
      "source": [
        "def train(X_train, y_label ,iters = 10, alpha = 0.1):\n",
        "    y = one_hot_encoding(y_label)\n",
        "    C = y.shape[0]\n",
        "    Nfeatures = X_train.shape[0]\n",
        "    Nsamples = X_train.shape[1]\n",
        "    W = np.random.rand(C, Nfeatures)\n",
        "    for i in range(iters):\n",
        "        z = softmax(W @ X_train)\n",
        "        delta = z - y\n",
        "        gradW = delta @ X_train.T\n",
        "        W = W - alpha * gradW\n",
        "    return W"
      ],
      "execution_count": 0,
      "outputs": []
    },
    {
      "cell_type": "code",
      "metadata": {
        "id": "d74kAwlSAacf",
        "colab_type": "code",
        "colab": {}
      },
      "source": [
        "W_opt = train(X_train, y_label)"
      ],
      "execution_count": 0,
      "outputs": []
    },
    {
      "cell_type": "code",
      "metadata": {
        "id": "uTBg69mkAack",
        "colab_type": "code",
        "colab": {
          "base_uri": "https://localhost:8080/",
          "height": 89
        },
        "outputId": "bea3ded7-26e5-4338-f8ba-a7ea0840fbeb"
      },
      "source": [
        "print(W_opt)"
      ],
      "execution_count": 47,
      "outputs": [
        {
          "output_type": "stream",
          "text": [
            "[[ 0.25829941 -3.39595978  0.58684371]\n",
            " [ 0.62505821  0.41226752 -3.16432108]\n",
            " [ 0.48797719  4.59190256  0.3362146 ]\n",
            " [ 0.62505925  0.79754269  4.30957649]]\n"
          ],
          "name": "stdout"
        }
      ]
    },
    {
      "cell_type": "code",
      "metadata": {
        "id": "3iWHop0YAacn",
        "colab_type": "code",
        "colab": {}
      },
      "source": [
        "def predict(xx, yy, W_opt):\n",
        "    x_1 = xx.reshape(-1)\n",
        "    y_1 = yy.reshape(-1)\n",
        "    X = getLinearFeatures(np.vstack((x_1, y_1)))\n",
        "    y = np.argmax(W_opt @ X, axis = 0)\n",
        "    return y.reshape(xx.shape)"
      ],
      "execution_count": 0,
      "outputs": []
    },
    {
      "cell_type": "code",
      "metadata": {
        "id": "mujMihm9Aacq",
        "colab_type": "code",
        "colab": {
          "base_uri": "https://localhost:8080/",
          "height": 265
        },
        "outputId": "fa5b12d6-5c6b-44e5-9775-af830b6683d8"
      },
      "source": [
        "x = np.arange(-2,2,0.01)\n",
        "y = np.arange(-2,2,0.01)\n",
        "xx, yy = np.meshgrid(x,y)\n",
        "colors = {0:[0.5, 0, 0],\n",
        "          1:[0, 0.5, 0],\n",
        "          2:[0, 0, 0.5],\n",
        "          3:[0.5, 0.5, 0]}\n",
        "labels = predict(xx, yy, W_opt)\n",
        "plt.contourf(x, y, labels, levels = [-0.5, 0.5, 1.5, 2.5, 3.5], \n",
        "             colors = [[0.5, 0, 0], [0, 0.5, 0],[0, 0, 0.5], [0.5, 0.5, 0]])\n",
        "plotPoints(X,y_label)"
      ],
      "execution_count": 49,
      "outputs": [
        {
          "output_type": "display_data",
          "data": {
            "image/png": "[encoded data removed]",
            "text/plain": [
              "<Figure size 432x288 with 1 Axes>"
            ]
          },
          "metadata": {
            "tags": []
          }
        }
      ]
    },
    {
      "cell_type": "code",
      "metadata": {
        "id": "BKi6iVX2Aac8",
        "colab_type": "code",
        "colab": {}
      },
      "source": [
        ""
      ],
      "execution_count": 0,
      "outputs": []
    }
  ]
}